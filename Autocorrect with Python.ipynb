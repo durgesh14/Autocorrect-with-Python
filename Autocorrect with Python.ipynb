{
 "cells": [
  {
   "cell_type": "code",
   "execution_count": 1,
   "id": "small-growth",
   "metadata": {},
   "outputs": [],
   "source": [
    "\n",
    "import pandas as pd\n",
    "import numpy as np\n",
    "import textdistance\n",
    "import re\n",
    "from collections import Counter"
   ]
  },
  {
   "cell_type": "code",
   "execution_count": 3,
   "id": "german-forty",
   "metadata": {},
   "outputs": [
    {
     "name": "stdout",
     "output_type": "stream",
     "text": [
      "top ten words are ['the', 'project', 'gutenberg', 'ebook', 'of', 'moby', 'dick', 'or', 'the', 'whale']\n",
      "total words in vocab 17647\n"
     ]
    }
   ],
   "source": [
    "words = [] \n",
    "with open('book.txt','r',encoding=\"utf8\") as f:\n",
    "    file_data = f.read()\n",
    "    file_data = file_data.lower()\n",
    "    words = re.findall('\\w+', file_data)\n",
    "    \n",
    "v = set(words)\n",
    "\n",
    "print(f'top ten words are {words[0:10]}')\n",
    "\n",
    "print(f'total words in vocab {len(v)}')\n",
    "    \n",
    "    "
   ]
  },
  {
   "cell_type": "code",
   "execution_count": 5,
   "id": "fabulous-romania",
   "metadata": {},
   "outputs": [
    {
     "name": "stdout",
     "output_type": "stream",
     "text": [
      "[('the', 14703), ('of', 6742), ('and', 6517), ('a', 4799), ('to', 4707), ('in', 4238), ('that', 3081), ('it', 2534), ('his', 2530), ('i', 2120)]\n"
     ]
    }
   ],
   "source": [
    "dict_word_freq = {}\n",
    "dict_word_freq = Counter(words)\n",
    "print(dict_word_freq.most_common()[0:10])"
   ]
  },
  {
   "cell_type": "markdown",
   "id": "elementary-venue",
   "metadata": {},
   "source": [
    "Probability of occurance of each word:"
   ]
  },
  {
   "cell_type": "code",
   "execution_count": 7,
   "id": "informed-classroom",
   "metadata": {},
   "outputs": [],
   "source": [
    "probs = {}\n",
    "total = sum(dict_word_freq.values())\n",
    "for k in dict_word_freq.keys():\n",
    "    probs[k] = dict_word_freq[k] / total"
   ]
  },
  {
   "cell_type": "markdown",
   "id": "electronic-electronics",
   "metadata": {},
   "source": [
    "Sort similar words according to the Jaccard distance by calculating the 2 grams Q of the words"
   ]
  },
  {
   "cell_type": "code",
   "execution_count": 20,
   "id": "square-guess",
   "metadata": {},
   "outputs": [],
   "source": [
    "def autocorrect(query):\n",
    "    query = query.lower()\n",
    "    \n",
    "    if query in v:\n",
    "        print(\"This word seems already right!!\")\n",
    "        \n",
    "    else:\n",
    "        similarity = [1- textdistance.Jaccard(qval=2).distance(v, query) for v in dict_word_freq.keys()]\n",
    "        df = pd.DataFrame.from_dict(probs, orient=\"index\").reset_index()\n",
    "        df = df.rename(columns={'index':'Word', 0:'Prob'})\n",
    "        df['Similarity'] = similarity\n",
    "        output = df.sort_values(['Similarity', 'Prob'], ascending=False).head()\n",
    "        return(output)\n"
   ]
  },
  {
   "cell_type": "code",
   "execution_count": 21,
   "id": "czech-assembly",
   "metadata": {},
   "outputs": [
    {
     "data": {
      "text/html": [
       "<div>\n",
       "<style scoped>\n",
       "    .dataframe tbody tr th:only-of-type {\n",
       "        vertical-align: middle;\n",
       "    }\n",
       "\n",
       "    .dataframe tbody tr th {\n",
       "        vertical-align: top;\n",
       "    }\n",
       "\n",
       "    .dataframe thead th {\n",
       "        text-align: right;\n",
       "    }\n",
       "</style>\n",
       "<table border=\"1\" class=\"dataframe\">\n",
       "  <thead>\n",
       "    <tr style=\"text-align: right;\">\n",
       "      <th></th>\n",
       "      <th>Word</th>\n",
       "      <th>Prob</th>\n",
       "      <th>Similarity</th>\n",
       "    </tr>\n",
       "  </thead>\n",
       "  <tbody>\n",
       "    <tr>\n",
       "      <th>2437</th>\n",
       "      <td>house</td>\n",
       "      <td>0.000198</td>\n",
       "      <td>0.800000</td>\n",
       "    </tr>\n",
       "    <tr>\n",
       "      <th>2112</th>\n",
       "      <td>houses</td>\n",
       "      <td>0.000040</td>\n",
       "      <td>0.666667</td>\n",
       "    </tr>\n",
       "    <tr>\n",
       "      <th>9163</th>\n",
       "      <td>housed</td>\n",
       "      <td>0.000004</td>\n",
       "      <td>0.666667</td>\n",
       "    </tr>\n",
       "    <tr>\n",
       "      <th>6480</th>\n",
       "      <td>mouse</td>\n",
       "      <td>0.000013</td>\n",
       "      <td>0.500000</td>\n",
       "    </tr>\n",
       "    <tr>\n",
       "      <th>3768</th>\n",
       "      <td>rouse</td>\n",
       "      <td>0.000004</td>\n",
       "      <td>0.500000</td>\n",
       "    </tr>\n",
       "  </tbody>\n",
       "</table>\n",
       "</div>"
      ],
      "text/plain": [
       "        Word      Prob  Similarity\n",
       "2437   house  0.000198    0.800000\n",
       "2112  houses  0.000040    0.666667\n",
       "9163  housed  0.000004    0.666667\n",
       "6480   mouse  0.000013    0.500000\n",
       "3768   rouse  0.000004    0.500000"
      ]
     },
     "execution_count": 21,
     "metadata": {},
     "output_type": "execute_result"
    }
   ],
   "source": [
    "autocorrect('housee')"
   ]
  },
  {
   "cell_type": "code",
   "execution_count": 28,
   "id": "challenging-browse",
   "metadata": {},
   "outputs": [
    {
     "data": {
      "text/html": [
       "<div>\n",
       "<style scoped>\n",
       "    .dataframe tbody tr th:only-of-type {\n",
       "        vertical-align: middle;\n",
       "    }\n",
       "\n",
       "    .dataframe tbody tr th {\n",
       "        vertical-align: top;\n",
       "    }\n",
       "\n",
       "    .dataframe thead th {\n",
       "        text-align: right;\n",
       "    }\n",
       "</style>\n",
       "<table border=\"1\" class=\"dataframe\">\n",
       "  <thead>\n",
       "    <tr style=\"text-align: right;\">\n",
       "      <th></th>\n",
       "      <th>Word</th>\n",
       "      <th>Prob</th>\n",
       "      <th>Similarity</th>\n",
       "    </tr>\n",
       "  </thead>\n",
       "  <tbody>\n",
       "    <tr>\n",
       "      <th>1690</th>\n",
       "      <td>impossible</td>\n",
       "      <td>0.000076</td>\n",
       "      <td>0.600000</td>\n",
       "    </tr>\n",
       "    <tr>\n",
       "      <th>7338</th>\n",
       "      <td>imposing</td>\n",
       "      <td>0.000018</td>\n",
       "      <td>0.555556</td>\n",
       "    </tr>\n",
       "    <tr>\n",
       "      <th>2114</th>\n",
       "      <td>simple</td>\n",
       "      <td>0.000049</td>\n",
       "      <td>0.500000</td>\n",
       "    </tr>\n",
       "    <tr>\n",
       "      <th>6827</th>\n",
       "      <td>impossibility</td>\n",
       "      <td>0.000004</td>\n",
       "      <td>0.461538</td>\n",
       "    </tr>\n",
       "    <tr>\n",
       "      <th>14387</th>\n",
       "      <td>imposingly</td>\n",
       "      <td>0.000004</td>\n",
       "      <td>0.454545</td>\n",
       "    </tr>\n",
       "  </tbody>\n",
       "</table>\n",
       "</div>"
      ],
      "text/plain": [
       "                Word      Prob  Similarity\n",
       "1690      impossible  0.000076    0.600000\n",
       "7338        imposing  0.000018    0.555556\n",
       "2114          simple  0.000049    0.500000\n",
       "6827   impossibility  0.000004    0.461538\n",
       "14387     imposingly  0.000004    0.454545"
      ]
     },
     "execution_count": 28,
     "metadata": {},
     "output_type": "execute_result"
    }
   ],
   "source": [
    "autocorrect(\"imposile\")"
   ]
  },
  {
   "cell_type": "code",
   "execution_count": null,
   "id": "lightweight-costs",
   "metadata": {},
   "outputs": [],
   "source": []
  }
 ],
 "metadata": {
  "kernelspec": {
   "display_name": "Python 3",
   "language": "python",
   "name": "python3"
  },
  "language_info": {
   "codemirror_mode": {
    "name": "ipython",
    "version": 3
   },
   "file_extension": ".py",
   "mimetype": "text/x-python",
   "name": "python",
   "nbconvert_exporter": "python",
   "pygments_lexer": "ipython3",
   "version": "3.7.7"
  }
 },
 "nbformat": 4,
 "nbformat_minor": 5
}
